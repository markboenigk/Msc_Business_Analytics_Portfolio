{
 "cells": [
  {
   "cell_type": "code",
   "execution_count": 102,
   "metadata": {},
   "outputs": [],
   "source": [
    "import pandas as pd \n",
    "import numpy as np\n",
    "\n",
    "import matplotlib.pyplot as plt\n",
    "import seaborn as sns\n",
    "\n",
    "from sklearn import preprocessing\n",
    "from sklearn.linear_model import LogisticRegression\n",
    "from sklearn.linear_model import LinearRegression\n",
    "from sklearn.model_selection import train_test_split\n",
    "from sklearn import metrics\n",
    "from sklearn.metrics import confusion_matrix\n",
    "from sklearn.metrics import classification_report\n",
    "from sklearn.metrics import roc_auc_score\n",
    "from sklearn.metrics import roc_curve\n",
    "from sklearn.preprocessing import StandardScaler\n",
    "\n",
    "from sklearn.metrics import mean_squared_error, r2_score\n",
    "\n",
    "from sklearn.preprocessing import OneHotEncoder"
   ]
  },
  {
   "cell_type": "code",
   "execution_count": 81,
   "metadata": {},
   "outputs": [],
   "source": [
    "def read_data():\n",
    "    df = pd.read_csv(\"A2.csv\")\n",
    "    df = df.drop(columns=[\"Unnamed: 0\"])\n",
    "    return df\n",
    "df_raw = read_data()\n",
    "\n",
    "def transform_data(df_raw):\n",
    "    df = df_raw\n",
    "    # Change columns to boolean\n",
    "    df[\"gender\"] = df[\"gender\"].map({\"Female\": 1, \"Male\": 0})\n",
    "    df[\"Partner\"] = df[\"Partner\"].map({\"Yes\": 1, \"No\": 0})\n",
    "    df[\"PhoneService\"] = df[\"PhoneService\"].map({\"Yes\": 1, \"No\": 0})\n",
    "    df[\"PaperlessBilling\"] = df[\"PaperlessBilling\"].map({\"Yes\": 1, \"No\": 0})\n",
    "    df[\"Churn\"] = df[\"Churn\"].map({\"Yes\": 1, \"No\": 0})\n",
    "    df[\"Dependents\"] = df[\"Dependents\"].map({\"Yes\": 1, \"No\": 0})\n",
    "\n",
    "    # Change data type of columns \n",
    "    df[[\"gender\", \"SeniorCitizen\", \"Partner\", \"PhoneService\", \"PaperlessBilling\", \"Churn\", \"Dependents\"]] = \\\n",
    "        df[[\"gender\", \"SeniorCitizen\", \"Partner\", \"PhoneService\", \"PaperlessBilling\", \"Churn\", \"Dependents\"]].astype(float)\n",
    "\n",
    "    # Change to float \n",
    "    df[\"TotalCharges\"] = pd.to_numeric(df[\"TotalCharges\"], errors=\"coerce\")\n",
    "\n",
    "    # Fill na values with median \n",
    "    df[\"gender\"] = df[\"gender\"].fillna(df[\"gender\"].median())\n",
    "    df[\"SeniorCitizen\"] = df[\"SeniorCitizen\"].fillna(df[\"SeniorCitizen\"].median())\n",
    "    df[\"Partner\"] = df[\"Partner\"].fillna(df[\"Partner\"].median())\n",
    "    df[\"tenure\"] = df[\"tenure\"].fillna(df[\"tenure\"].median())\n",
    "    df[\"PhoneService\"] = df[\"PhoneService\"].fillna(df[\"PhoneService\"].median())\n",
    "    df[\"PaperlessBilling\"] = df[\"PaperlessBilling\"].fillna(df[\"PaperlessBilling\"].median())\n",
    "    df[\"CreditScore\"] = df[\"CreditScore\"].fillna(df[\"CreditScore\"].median())\n",
    "    df[\"Charge\"] = df[\"Charge\"].fillna(df[\"Charge\"].median())\n",
    "    df[\"EstimatedSalary\"] = df[\"EstimatedSalary\"].fillna(df[\"EstimatedSalary\"].median())\n",
    "    df[\"MonthlyCharges\"] = df[\"MonthlyCharges\"].fillna(df[\"MonthlyCharges\"].median())\n",
    "    df[\"TotalCharges\"] = df[\"TotalCharges\"].fillna(df[\"MonthlyCharges\"].median())\n",
    "\n",
    "    # Drop NaN values in Churn column\n",
    "    df = df.dropna(subset='Churn')\n",
    "\n",
    "    df = df.drop(columns=['customerID', 'Surname'])\n",
    "    return df\n",
    "\n",
    "df = transform_data(df_raw)\n",
    "\n",
    "#print(df.info())\n",
    "#print(df[\"TotalCharges_check\"].value_counts())\n"
   ]
  },
  {
   "cell_type": "code",
   "execution_count": 80,
   "metadata": {},
   "outputs": [
    {
     "name": "stdout",
     "output_type": "stream",
     "text": [
      "<class 'pandas.core.frame.DataFrame'>\n",
      "Int64Index: 7934 entries, 0 to 7999\n",
      "Data columns (total 24 columns):\n",
      " #   Column            Non-Null Count  Dtype  \n",
      "---  ------            --------------  -----  \n",
      " 0   gender            7934 non-null   float64\n",
      " 1   SeniorCitizen     7934 non-null   float64\n",
      " 2   Partner           7934 non-null   float64\n",
      " 3   tenure            7934 non-null   float64\n",
      " 4   PhoneService      7934 non-null   float64\n",
      " 5   MultipleLines     7867 non-null   object \n",
      " 6   InternetService   7881 non-null   object \n",
      " 7   OnlineSecurity    7875 non-null   object \n",
      " 8   OnlineBackup      7894 non-null   object \n",
      " 9   DeviceProtection  7887 non-null   object \n",
      " 10  TechSupport       7888 non-null   object \n",
      " 11  StreamingTV       7884 non-null   object \n",
      " 12  StreamingMovies   7882 non-null   object \n",
      " 13  Contract          7886 non-null   object \n",
      " 14  PaperlessBilling  7934 non-null   float64\n",
      " 15  TotalCharges      7934 non-null   float64\n",
      " 16  Churn             7934 non-null   float64\n",
      " 17  Geography         7883 non-null   object \n",
      " 18  CreditScore       7934 non-null   float64\n",
      " 19  EstimatedSalary   7934 non-null   float64\n",
      " 20  MonthlyCharges    7934 non-null   float64\n",
      " 21  Dependents        7934 non-null   float64\n",
      " 22  PaymentMethod     7934 non-null   object \n",
      " 23  Charge            7934 non-null   float64\n",
      "dtypes: float64(13), object(11)\n",
      "memory usage: 1.5+ MB\n",
      "None\n"
     ]
    }
   ],
   "source": [
    "#df = df.dropna()\n",
    "print(df.info())"
   ]
  },
  {
   "cell_type": "code",
   "execution_count": 91,
   "metadata": {},
   "outputs": [
    {
     "data": {
      "text/plain": [
       "<AxesSubplot: xlabel='CreditScore', ylabel='Count'>"
      ]
     },
     "execution_count": 91,
     "metadata": {},
     "output_type": "execute_result"
    },
    {
     "data": {
      "image/png": "[encoded data removed]",
      "text/plain": [
       "<Figure size 640x480 with 1 Axes>"
      ]
     },
     "metadata": {},
     "output_type": "display_data"
    }
   ],
   "source": [
    "#print(df.head())\n",
    "#print(df.columns)\n",
    "import seaborn as sns\n",
    "sns.histplot(data   = df,\n",
    "             x      = 'CreditScore',\n",
    "             kde    = True)"
   ]
  },
  {
   "attachments": {},
   "cell_type": "markdown",
   "metadata": {},
   "source": [
    "# Select variables - no string"
   ]
  },
  {
   "cell_type": "code",
   "execution_count": 82,
   "metadata": {},
   "outputs": [],
   "source": [
    "df.columns\n",
    "\n",
    "x_var = ['gender',\n",
    "        'SeniorCitizen',\n",
    "        'Partner',\n",
    "        'tenure',\n",
    "        'PhoneService',\n",
    "        #'MultipleLines',\n",
    "        #'InternetService',\n",
    "        #'OnlineSecurity',\n",
    "        #'OnlineBackup',\n",
    "        #'DeviceProtection',\n",
    "        #'TechSupport',\n",
    "        #'StreamingTV',\n",
    "        #'StreamingMovies',\n",
    "        #'Contract',\n",
    "        'PaperlessBilling', \n",
    "        'TotalCharges',\n",
    "        #'Geography',\n",
    "        'CreditScore',\n",
    "        #'EstimatedSalary',\n",
    "        #'MonthlyCharges',\n",
    "        #'Dependents',\n",
    "        #'PaymentMethod',\n",
    "        'Charge'\n",
    "        ]\n",
    "\n"
   ]
  },
  {
   "cell_type": "code",
   "execution_count": 75,
   "metadata": {},
   "outputs": [],
   "source": [
    "df = df.dropna()\n",
    "y_data = df.loc[ : , 'Churn']\n",
    "x_data = df.loc[ : , x_var]"
   ]
  },
  {
   "cell_type": "code",
   "execution_count": 76,
   "metadata": {},
   "outputs": [],
   "source": [
    "x_train, x_test, y_train, y_test = train_test_split(\n",
    "            x_data, # x-variables (can change this)\n",
    "            y_data, # y-variable  (can change this)\n",
    "            test_size    = 0.25,\n",
    "            random_state = 219)"
   ]
  },
  {
   "attachments": {},
   "cell_type": "markdown",
   "metadata": {},
   "source": [
    "# One-Hot encoding"
   ]
  },
  {
   "cell_type": "code",
   "execution_count": 90,
   "metadata": {},
   "outputs": [],
   "source": [
    "x_var = ['gender',\n",
    "        'SeniorCitizen',\n",
    "        'Partner',\n",
    "        'tenure',\n",
    "        'PhoneService',\n",
    "        'MultipleLines',\n",
    "        'InternetService',\n",
    "        'OnlineSecurity',\n",
    "        'OnlineBackup',\n",
    "        'DeviceProtection',\n",
    "        'TechSupport',\n",
    "        'StreamingTV',\n",
    "        'StreamingMovies',\n",
    "        'Contract',\n",
    "        'PaperlessBilling', \n",
    "        'TotalCharges',\n",
    "        'Geography',\n",
    "        'CreditScore',\n",
    "        'EstimatedSalary',\n",
    "        'MonthlyCharges',\n",
    "        'Dependents',\n",
    "        'PaymentMethod',\n",
    "        'Charge'\n",
    "        ]"
   ]
  },
  {
   "cell_type": "code",
   "execution_count": 91,
   "metadata": {},
   "outputs": [],
   "source": [
    "df = df.dropna()\n",
    "y_data = df.loc[ : , 'Churn']\n",
    "x_data = df.loc[ : , x_var]\n",
    "\n",
    "s = (x_data.dtypes == 'object')\n",
    "object_cols = list(s[s].index)"
   ]
  },
  {
   "cell_type": "code",
   "execution_count": 92,
   "metadata": {},
   "outputs": [],
   "source": [
    "# Apply one-hot encoder to each column with categorical data\n",
    "OH_encoder = OneHotEncoder(handle_unknown='ignore', sparse_output=False)\n",
    "\n",
    "OH_cols = pd.DataFrame(OH_encoder.fit_transform(x_data[object_cols]))"
   ]
  },
  {
   "cell_type": "code",
   "execution_count": 93,
   "metadata": {},
   "outputs": [
    {
     "name": "stderr",
     "output_type": "stream",
     "text": [
      "/var/folders/qz/ybh3b7qd43l25ff6626czkvm0000gn/T/ipykernel_8045/3455292715.py:5: FutureWarning: DataFrame.set_axis 'inplace' keyword is deprecated and will be removed in a future version. Use `obj = obj.set_axis(..., copy=False)` instead\n",
      "  OH_cols.set_axis(np.concatenate(OH_encoder.categories_), axis=1, inplace=True)\n"
     ]
    }
   ],
   "source": [
    "# One-hot encoding removed index; put it back\n",
    "OH_cols.index = x_data.index\n",
    "\n",
    "# Ensure we have proper column names\n",
    "OH_cols.set_axis(np.concatenate(OH_encoder.categories_), axis=1, inplace=True)\n",
    "\n",
    "# Remove categorical columns (will replace with one-hot encoding)\n",
    "num_X = x_data.drop(object_cols, axis=1)\n",
    "\n",
    "# Add one-hot encoded columns to numerical features\n",
    "OH_X = pd.concat([num_X, OH_cols], axis=1)"
   ]
  },
  {
   "cell_type": "code",
   "execution_count": 94,
   "metadata": {},
   "outputs": [],
   "source": [
    "x_train, x_test, y_train, y_test = train_test_split(\n",
    "            OH_X, # x-variables (can change this)\n",
    "            y_data, # y-variable  (can change this)\n",
    "            test_size    = 0.25,\n",
    "            random_state = 219)"
   ]
  },
  {
   "attachments": {},
   "cell_type": "markdown",
   "metadata": {},
   "source": [
    "# Linear Regression"
   ]
  },
  {
   "cell_type": "code",
   "execution_count": 95,
   "metadata": {},
   "outputs": [],
   "source": [
    "# Model initialization\n",
    "linear_model = LinearRegression()"
   ]
  },
  {
   "cell_type": "code",
   "execution_count": 96,
   "metadata": {},
   "outputs": [
    {
     "data": {
      "text/html": [
       "<style>#sk-container-id-4 {color: black;background-color: white;}#sk-container-id-4 pre{padding: 0;}#sk-container-id-4 div.sk-toggleable {background-color: white;}#sk-container-id-4 label.sk-toggleable__label {cursor: pointer;display: block;width: 100%;margin-bottom: 0;padding: 0.3em;box-sizing: border-box;text-align: center;}#sk-container-id-4 label.sk-toggleable__label-arrow:before {content: \"▸\";float: left;margin-right: 0.25em;color: #696969;}#sk-container-id-4 label.sk-toggleable__label-arrow:hover:before {color: black;}#sk-container-id-4 div.sk-estimator:hover label.sk-toggleable__label-arrow:before {color: black;}#sk-container-id-4 div.sk-toggleable__content {max-height: 0;max-width: 0;overflow: hidden;text-align: left;background-color: #f0f8ff;}#sk-container-id-4 div.sk-toggleable__content pre {margin: 0.2em;color: black;border-radius: 0.25em;background-color: #f0f8ff;}#sk-container-id-4 input.sk-toggleable__control:checked~div.sk-toggleable__content {max-height: 200px;max-width: 100%;overflow: auto;}#sk-container-id-4 input.sk-toggleable__control:checked~label.sk-toggleable__label-arrow:before {content: \"▾\";}#sk-container-id-4 div.sk-estimator input.sk-toggleable__control:checked~label.sk-toggleable__label {background-color: #d4ebff;}#sk-container-id-4 div.sk-label input.sk-toggleable__control:checked~label.sk-toggleable__label {background-color: #d4ebff;}#sk-container-id-4 input.sk-hidden--visually {border: 0;clip: rect(1px 1px 1px 1px);clip: rect(1px, 1px, 1px, 1px);height: 1px;margin: -1px;overflow: hidden;padding: 0;position: absolute;width: 1px;}#sk-container-id-4 div.sk-estimator {font-family: monospace;background-color: #f0f8ff;border: 1px dotted black;border-radius: 0.25em;box-sizing: border-box;margin-bottom: 0.5em;}#sk-container-id-4 div.sk-estimator:hover {background-color: #d4ebff;}#sk-container-id-4 div.sk-parallel-item::after {content: \"\";width: 100%;border-bottom: 1px solid gray;flex-grow: 1;}#sk-container-id-4 div.sk-label:hover label.sk-toggleable__label {background-color: #d4ebff;}#sk-container-id-4 div.sk-serial::before {content: \"\";position: absolute;border-left: 1px solid gray;box-sizing: border-box;top: 0;bottom: 0;left: 50%;z-index: 0;}#sk-container-id-4 div.sk-serial {display: flex;flex-direction: column;align-items: center;background-color: white;padding-right: 0.2em;padding-left: 0.2em;position: relative;}#sk-container-id-4 div.sk-item {position: relative;z-index: 1;}#sk-container-id-4 div.sk-parallel {display: flex;align-items: stretch;justify-content: center;background-color: white;position: relative;}#sk-container-id-4 div.sk-item::before, #sk-container-id-4 div.sk-parallel-item::before {content: \"\";position: absolute;border-left: 1px solid gray;box-sizing: border-box;top: 0;bottom: 0;left: 50%;z-index: -1;}#sk-container-id-4 div.sk-parallel-item {display: flex;flex-direction: column;z-index: 1;position: relative;background-color: white;}#sk-container-id-4 div.sk-parallel-item:first-child::after {align-self: flex-end;width: 50%;}#sk-container-id-4 div.sk-parallel-item:last-child::after {align-self: flex-start;width: 50%;}#sk-container-id-4 div.sk-parallel-item:only-child::after {width: 0;}#sk-container-id-4 div.sk-dashed-wrapped {border: 1px dashed gray;margin: 0 0.4em 0.5em 0.4em;box-sizing: border-box;padding-bottom: 0.4em;background-color: white;}#sk-container-id-4 div.sk-label label {font-family: monospace;font-weight: bold;display: inline-block;line-height: 1.2em;}#sk-container-id-4 div.sk-label-container {text-align: center;}#sk-container-id-4 div.sk-container {/* jupyter's `normalize.less` sets `[hidden] { display: none; }` but bootstrap.min.css set `[hidden] { display: none !important; }` so we also need the `!important` here to be able to override the default hidden behavior on the sphinx rendered scikit-learn.org. See: https://github.com/scikit-learn/scikit-learn/issues/21755 */display: inline-block !important;position: relative;}#sk-container-id-4 div.sk-text-repr-fallback {display: none;}</style><div id=\"sk-container-id-4\" class=\"sk-top-container\"><div class=\"sk-text-repr-fallback\"><pre>LinearRegression()</pre><b>In a Jupyter environment, please rerun this cell to show the HTML representation or trust the notebook. <br />On GitHub, the HTML representation is unable to render, please try loading this page with nbviewer.org.</b></div><div class=\"sk-container\" hidden><div class=\"sk-item\"><div class=\"sk-estimator sk-toggleable\"><input class=\"sk-toggleable__control sk-hidden--visually\" id=\"sk-estimator-id-4\" type=\"checkbox\" checked><label for=\"sk-estimator-id-4\" class=\"sk-toggleable__label sk-toggleable__label-arrow\">LinearRegression</label><div class=\"sk-toggleable__content\"><pre>LinearRegression()</pre></div></div></div></div></div>"
      ],
      "text/plain": [
       "LinearRegression()"
      ]
     },
     "execution_count": 96,
     "metadata": {},
     "output_type": "execute_result"
    }
   ],
   "source": [
    "# Fit the data(train the model)\n",
    "linear_model.fit(x_train, y_train)"
   ]
  },
  {
   "cell_type": "code",
   "execution_count": 98,
   "metadata": {},
   "outputs": [
    {
     "ename": "TypeError",
     "evalue": "'LinearRegression' object is not subscriptable",
     "output_type": "error",
     "traceback": [
      "\u001b[0;31m---------------------------------------------------------------------------\u001b[0m",
      "\u001b[0;31mTypeError\u001b[0m                                 Traceback (most recent call last)",
      "Cell \u001b[0;32mIn [98], line 2\u001b[0m\n\u001b[1;32m      1\u001b[0m coefs \u001b[39m=\u001b[39m pd\u001b[39m.\u001b[39mDataFrame(\n\u001b[0;32m----> 2\u001b[0m    np\u001b[39m.\u001b[39mabs(linear_model[\u001b[39m1\u001b[39;49m]\u001b[39m.\u001b[39mcoef_),\n\u001b[1;32m      3\u001b[0m    columns\u001b[39m=\u001b[39m[\u001b[39m'\u001b[39m\u001b[39mCoefficients\u001b[39m\u001b[39m'\u001b[39m], index\u001b[39m=\u001b[39mx_train\u001b[39m.\u001b[39mcolumns\n\u001b[1;32m      4\u001b[0m )\n\u001b[1;32m      6\u001b[0m coefs\u001b[39m.\u001b[39mplot(kind\u001b[39m=\u001b[39m\u001b[39m'\u001b[39m\u001b[39mbarh\u001b[39m\u001b[39m'\u001b[39m, figsize\u001b[39m=\u001b[39m(\u001b[39m9\u001b[39m, \u001b[39m7\u001b[39m))\n\u001b[1;32m      7\u001b[0m plt\u001b[39m.\u001b[39mtitle(\u001b[39m'\u001b[39m\u001b[39mFeature importance\u001b[39m\u001b[39m'\u001b[39m)\n",
      "\u001b[0;31mTypeError\u001b[0m: 'LinearRegression' object is not subscriptable"
     ]
    }
   ],
   "source": [
    "coefs = pd.DataFrame(\n",
    "   np.abs(linear_model[1].coef_),\n",
    "   columns=['Coefficients'], index=x_train.columns\n",
    ")\n",
    "\n",
    "coefs.plot(kind='barh', figsize=(9, 7))\n",
    "plt.title('Feature importance')\n",
    "plt.axvline(x=0, color='.5')\n",
    "plt.subplots_adjust(left=.3)"
   ]
  },
  {
   "cell_type": "code",
   "execution_count": 99,
   "metadata": {},
   "outputs": [],
   "source": [
    "# Predict\n",
    "y_predicted = linear_model.predict(x_test)"
   ]
  },
  {
   "cell_type": "code",
   "execution_count": 103,
   "metadata": {},
   "outputs": [
    {
     "name": "stdout",
     "output_type": "stream",
     "text": [
      "Slope: [[-0.1   0.64 -0.14 -0.07 -0.51  0.66  0.   -0.    0.02]]\n",
      "Intercept: [-0.2]\n",
      "Root mean squared error:  0.139\n",
      "R2 score:  0.287\n"
     ]
    }
   ],
   "source": [
    "# model evaluation\n",
    "rmse = mean_squared_error(y_test, y_predicted).round(3)\n",
    "r2 = r2_score(y_test, y_predicted).round(3)\n",
    "\n",
    "# printing values\n",
    "print('Slope:' ,regression_model.coef_.round(decimals = 2))\n",
    "print('Intercept:', regression_model.intercept_.round(decimals = 2))\n",
    "print('Root mean squared error: ', rmse)\n",
    "print('R2 score: ', r2)"
   ]
  },
  {
   "attachments": {},
   "cell_type": "markdown",
   "metadata": {},
   "source": [
    "# Logistic Regression model"
   ]
  },
  {
   "cell_type": "code",
   "execution_count": 53,
   "metadata": {},
   "outputs": [],
   "source": [
    "# Model initialization\n",
    "regression_model = LogisticRegression()"
   ]
  },
  {
   "cell_type": "code",
   "execution_count": 54,
   "metadata": {},
   "outputs": [
    {
     "data": {
      "text/html": [
       "<style>#sk-container-id-2 {color: black;background-color: white;}#sk-container-id-2 pre{padding: 0;}#sk-container-id-2 div.sk-toggleable {background-color: white;}#sk-container-id-2 label.sk-toggleable__label {cursor: pointer;display: block;width: 100%;margin-bottom: 0;padding: 0.3em;box-sizing: border-box;text-align: center;}#sk-container-id-2 label.sk-toggleable__label-arrow:before {content: \"▸\";float: left;margin-right: 0.25em;color: #696969;}#sk-container-id-2 label.sk-toggleable__label-arrow:hover:before {color: black;}#sk-container-id-2 div.sk-estimator:hover label.sk-toggleable__label-arrow:before {color: black;}#sk-container-id-2 div.sk-toggleable__content {max-height: 0;max-width: 0;overflow: hidden;text-align: left;background-color: #f0f8ff;}#sk-container-id-2 div.sk-toggleable__content pre {margin: 0.2em;color: black;border-radius: 0.25em;background-color: #f0f8ff;}#sk-container-id-2 input.sk-toggleable__control:checked~div.sk-toggleable__content {max-height: 200px;max-width: 100%;overflow: auto;}#sk-container-id-2 input.sk-toggleable__control:checked~label.sk-toggleable__label-arrow:before {content: \"▾\";}#sk-container-id-2 div.sk-estimator input.sk-toggleable__control:checked~label.sk-toggleable__label {background-color: #d4ebff;}#sk-container-id-2 div.sk-label input.sk-toggleable__control:checked~label.sk-toggleable__label {background-color: #d4ebff;}#sk-container-id-2 input.sk-hidden--visually {border: 0;clip: rect(1px 1px 1px 1px);clip: rect(1px, 1px, 1px, 1px);height: 1px;margin: -1px;overflow: hidden;padding: 0;position: absolute;width: 1px;}#sk-container-id-2 div.sk-estimator {font-family: monospace;background-color: #f0f8ff;border: 1px dotted black;border-radius: 0.25em;box-sizing: border-box;margin-bottom: 0.5em;}#sk-container-id-2 div.sk-estimator:hover {background-color: #d4ebff;}#sk-container-id-2 div.sk-parallel-item::after {content: \"\";width: 100%;border-bottom: 1px solid gray;flex-grow: 1;}#sk-container-id-2 div.sk-label:hover label.sk-toggleable__label {background-color: #d4ebff;}#sk-container-id-2 div.sk-serial::before {content: \"\";position: absolute;border-left: 1px solid gray;box-sizing: border-box;top: 0;bottom: 0;left: 50%;z-index: 0;}#sk-container-id-2 div.sk-serial {display: flex;flex-direction: column;align-items: center;background-color: white;padding-right: 0.2em;padding-left: 0.2em;position: relative;}#sk-container-id-2 div.sk-item {position: relative;z-index: 1;}#sk-container-id-2 div.sk-parallel {display: flex;align-items: stretch;justify-content: center;background-color: white;position: relative;}#sk-container-id-2 div.sk-item::before, #sk-container-id-2 div.sk-parallel-item::before {content: \"\";position: absolute;border-left: 1px solid gray;box-sizing: border-box;top: 0;bottom: 0;left: 50%;z-index: -1;}#sk-container-id-2 div.sk-parallel-item {display: flex;flex-direction: column;z-index: 1;position: relative;background-color: white;}#sk-container-id-2 div.sk-parallel-item:first-child::after {align-self: flex-end;width: 50%;}#sk-container-id-2 div.sk-parallel-item:last-child::after {align-self: flex-start;width: 50%;}#sk-container-id-2 div.sk-parallel-item:only-child::after {width: 0;}#sk-container-id-2 div.sk-dashed-wrapped {border: 1px dashed gray;margin: 0 0.4em 0.5em 0.4em;box-sizing: border-box;padding-bottom: 0.4em;background-color: white;}#sk-container-id-2 div.sk-label label {font-family: monospace;font-weight: bold;display: inline-block;line-height: 1.2em;}#sk-container-id-2 div.sk-label-container {text-align: center;}#sk-container-id-2 div.sk-container {/* jupyter's `normalize.less` sets `[hidden] { display: none; }` but bootstrap.min.css set `[hidden] { display: none !important; }` so we also need the `!important` here to be able to override the default hidden behavior on the sphinx rendered scikit-learn.org. See: https://github.com/scikit-learn/scikit-learn/issues/21755 */display: inline-block !important;position: relative;}#sk-container-id-2 div.sk-text-repr-fallback {display: none;}</style><div id=\"sk-container-id-2\" class=\"sk-top-container\"><div class=\"sk-text-repr-fallback\"><pre>LogisticRegression()</pre><b>In a Jupyter environment, please rerun this cell to show the HTML representation or trust the notebook. <br />On GitHub, the HTML representation is unable to render, please try loading this page with nbviewer.org.</b></div><div class=\"sk-container\" hidden><div class=\"sk-item\"><div class=\"sk-estimator sk-toggleable\"><input class=\"sk-toggleable__control sk-hidden--visually\" id=\"sk-estimator-id-2\" type=\"checkbox\" checked><label for=\"sk-estimator-id-2\" class=\"sk-toggleable__label sk-toggleable__label-arrow\">LogisticRegression</label><div class=\"sk-toggleable__content\"><pre>LogisticRegression()</pre></div></div></div></div></div>"
      ],
      "text/plain": [
       "LogisticRegression()"
      ]
     },
     "execution_count": 54,
     "metadata": {},
     "output_type": "execute_result"
    }
   ],
   "source": [
    "# Fit the data(train the model)\n",
    "regression_model.fit(x_train, y_train)"
   ]
  },
  {
   "cell_type": "code",
   "execution_count": 55,
   "metadata": {},
   "outputs": [],
   "source": [
    "# Predict\n",
    "y_predicted = regression_model.predict(x_test)"
   ]
  },
  {
   "cell_type": "code",
   "execution_count": 56,
   "metadata": {},
   "outputs": [
    {
     "data": {
      "text/plain": [
       "array([[1195,  133],\n",
       "       [ 253,  234]])"
      ]
     },
     "execution_count": 56,
     "metadata": {},
     "output_type": "execute_result"
    }
   ],
   "source": [
    "confusion_matrix(y_test, y_predicted)"
   ]
  },
  {
   "cell_type": "code",
   "execution_count": 57,
   "metadata": {},
   "outputs": [
    {
     "name": "stdout",
     "output_type": "stream",
     "text": [
      "              precision    recall  f1-score   support\n",
      "\n",
      "         0.0       0.83      0.90      0.86      1328\n",
      "         1.0       0.64      0.48      0.55       487\n",
      "\n",
      "    accuracy                           0.79      1815\n",
      "   macro avg       0.73      0.69      0.70      1815\n",
      "weighted avg       0.77      0.79      0.78      1815\n",
      "\n"
     ]
    }
   ],
   "source": [
    "print(classification_report(y_test, y_predicted))"
   ]
  },
  {
   "cell_type": "code",
   "execution_count": 58,
   "metadata": {},
   "outputs": [
    {
     "data": {
      "image/png": "[encoded data removed]",
      "text/plain": [
       "<Figure size 640x480 with 1 Axes>"
      ]
     },
     "metadata": {},
     "output_type": "display_data"
    }
   ],
   "source": [
    "logit_roc_auc = roc_auc_score(y_test, y_predicted)\n",
    "fpr, tpr, thresholds = roc_curve(y_test, regression_model.predict_proba(x_test)[:,1])\n",
    "\n",
    "plt.plot(fpr, tpr, label='Logistic Regression (area = %0.2f)' % logit_roc_auc)\n",
    "plt.plot([0, 1], [0, 1],'r--')\n",
    "plt.xlim([0.0, 1.0])\n",
    "plt.ylim([0.0, 1.05])\n",
    "plt.xlabel('False Positive Rate')\n",
    "plt.ylabel('True Positive Rate')\n",
    "plt.title('Receiver operating characteristic')\n",
    "plt.legend(loc=\"lower right\")\n",
    "plt.show()"
   ]
  }
 ],
 "metadata": {
  "kernelspec": {
   "display_name": "virtualenv",
   "language": "python",
   "name": "python3"
  },
  "language_info": {
   "codemirror_mode": {
    "name": "ipython",
    "version": 3
   },
   "file_extension": ".py",
   "mimetype": "text/x-python",
   "name": "python",
   "nbconvert_exporter": "python",
   "pygments_lexer": "ipython3",
   "version": "3.9.15"
  },
  "orig_nbformat": 4,
  "vscode": {
   "interpreter": {
    "hash": "3a6b873825edb8ab5f734166f4373aebed491d1bab037434280a4f0e93148f9b"
   }
  }
 },
 "nbformat": 4,
 "nbformat_minor": 2
}
